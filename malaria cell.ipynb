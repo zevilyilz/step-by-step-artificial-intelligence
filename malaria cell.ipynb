{
 "cells": [
  {
   "cell_type": "markdown",
   "id": "670045e6-8d0c-43ee-86c6-4e496ef80835",
   "metadata": {},
   "source": [
    "## MALARIA CELL IMAGES \n",
    "+ Cell Images for Detecting Malaria"
   ]
  },
  {
   "cell_type": "markdown",
   "id": "f20ce562-8a52-404c-8e2b-ce4d2a798e25",
   "metadata": {},
   "source": [
    "### about the dataset "
   ]
  },
  {
   "cell_type": "markdown",
   "id": "485a0d58-8287-47ff-b7d8-ed033162452b",
   "metadata": {},
   "source": [
    "Content\n",
    "The dataset contains 2 folders\n",
    "\n",
    "+ Infected\n",
    "+ Uninfected\n",
    "+ And a total of 27,558 images.\n",
    "+ Acknowledgements: \n",
    "This Dataset is taken from the official NIH Website: https://ceb.nlm.nih.gov/repositories/malaria-datasets/\n",
    "And uploaded here, so anybody trying to start working with this dataset can get started immediately, as to download the\n",
    "dataset from NIH website is quite slow."
   ]
  },
  {
   "cell_type": "code",
   "execution_count": 4,
   "id": "3ac06266-8581-4ef8-b238-b31860b22257",
   "metadata": {},
   "outputs": [],
   "source": [
    "import cv2 \n",
    "import pandas as pd\n",
    "import os\n",
    "import numpy as np\n",
    "import matplotlib.pyplot as plt\n",
    "\n",
    "from sklearn.model_selection import train_test_split\n",
    "from keras.models import Sequential\n",
    "from keras.layers import Conv2D, Dense, Flatten, Input, MaxPooling2D, Dropout, BatchNormalization, Reshape"
   ]
  },
  {
   "cell_type": "code",
   "execution_count": 5,
   "id": "986474d5-8b66-4af3-9b12-eb4ec4773317",
   "metadata": {},
   "outputs": [],
   "source": [
    "img_path =  \"C:/Users/zeyil/Desktop/data science/hw malaria cell/cell_images/cell_images/\"\n",
    "img_labels = [\"Parasitized\",\"Uninfected\"]"
   ]
  },
  {
   "cell_type": "code",
   "execution_count": 6,
   "id": "a3e274fc-6b6e-44a3-811e-5f5af40ceb4b",
   "metadata": {},
   "outputs": [],
   "source": [
    "img_list= []\n",
    "label_list= []\n",
    "\n",
    "for label in img_labels:  \n",
    "    folder_path = img_path + \"/\" + label  # ex: cell_iamges/Parasitized\n",
    "    for img_file in os.listdir(folder_path):  # dosya sadece os.listdir ile döngü yapılabilir\n",
    "        img_list.append(folder_path + \"/\" + img_file)  #cell_iamges/Parasitized/image1.jpg\n",
    "        label_list.append(label)"
   ]
  },
  {
   "cell_type": "code",
   "execution_count": 7,
   "id": "d42bf110-0da8-4cd3-be44-5c3080f5390a",
   "metadata": {},
   "outputs": [],
   "source": [
    "df= pd.DataFrame({\"img\":img_list, \"label\": label_list})\n"
   ]
  },
  {
   "cell_type": "code",
   "execution_count": 8,
   "id": "d149a25c-d0e8-4dc6-b169-618d7d9a046b",
   "metadata": {},
   "outputs": [
    {
     "data": {
      "text/html": [
       "<div>\n",
       "<style scoped>\n",
       "    .dataframe tbody tr th:only-of-type {\n",
       "        vertical-align: middle;\n",
       "    }\n",
       "\n",
       "    .dataframe tbody tr th {\n",
       "        vertical-align: top;\n",
       "    }\n",
       "\n",
       "    .dataframe thead th {\n",
       "        text-align: right;\n",
       "    }\n",
       "</style>\n",
       "<table border=\"1\" class=\"dataframe\">\n",
       "  <thead>\n",
       "    <tr style=\"text-align: right;\">\n",
       "      <th></th>\n",
       "      <th>img</th>\n",
       "      <th>label</th>\n",
       "    </tr>\n",
       "  </thead>\n",
       "  <tbody>\n",
       "    <tr>\n",
       "      <th>0</th>\n",
       "      <td>C:/Users/zeyil/Desktop/data science/hw malaria...</td>\n",
       "      <td>Parasitized</td>\n",
       "    </tr>\n",
       "    <tr>\n",
       "      <th>1</th>\n",
       "      <td>C:/Users/zeyil/Desktop/data science/hw malaria...</td>\n",
       "      <td>Parasitized</td>\n",
       "    </tr>\n",
       "    <tr>\n",
       "      <th>2</th>\n",
       "      <td>C:/Users/zeyil/Desktop/data science/hw malaria...</td>\n",
       "      <td>Parasitized</td>\n",
       "    </tr>\n",
       "    <tr>\n",
       "      <th>3</th>\n",
       "      <td>C:/Users/zeyil/Desktop/data science/hw malaria...</td>\n",
       "      <td>Parasitized</td>\n",
       "    </tr>\n",
       "    <tr>\n",
       "      <th>4</th>\n",
       "      <td>C:/Users/zeyil/Desktop/data science/hw malaria...</td>\n",
       "      <td>Parasitized</td>\n",
       "    </tr>\n",
       "  </tbody>\n",
       "</table>\n",
       "</div>"
      ],
      "text/plain": [
       "                                                 img        label\n",
       "0  C:/Users/zeyil/Desktop/data science/hw malaria...  Parasitized\n",
       "1  C:/Users/zeyil/Desktop/data science/hw malaria...  Parasitized\n",
       "2  C:/Users/zeyil/Desktop/data science/hw malaria...  Parasitized\n",
       "3  C:/Users/zeyil/Desktop/data science/hw malaria...  Parasitized\n",
       "4  C:/Users/zeyil/Desktop/data science/hw malaria...  Parasitized"
      ]
     },
     "execution_count": 8,
     "metadata": {},
     "output_type": "execute_result"
    }
   ],
   "source": [
    "df.head()"
   ]
  },
  {
   "cell_type": "code",
   "execution_count": 9,
   "id": "3474eae7-2d9c-4402-9cce-ca33eb32a138",
   "metadata": {},
   "outputs": [],
   "source": [
    "d= {\"Parasitized\": 1, \"Uninfected\":0}"
   ]
  },
  {
   "cell_type": "code",
   "execution_count": 10,
   "id": "7b26a51f-40c2-4e70-b1e6-cec09695a250",
   "metadata": {},
   "outputs": [],
   "source": [
    "df[\"encode_label\"]= df[\"label\"].map(d)"
   ]
  },
  {
   "cell_type": "code",
   "execution_count": 11,
   "id": "adeedb22-8093-43a4-b710-b3d487b8347e",
   "metadata": {},
   "outputs": [
    {
     "data": {
      "text/html": [
       "<div>\n",
       "<style scoped>\n",
       "    .dataframe tbody tr th:only-of-type {\n",
       "        vertical-align: middle;\n",
       "    }\n",
       "\n",
       "    .dataframe tbody tr th {\n",
       "        vertical-align: top;\n",
       "    }\n",
       "\n",
       "    .dataframe thead th {\n",
       "        text-align: right;\n",
       "    }\n",
       "</style>\n",
       "<table border=\"1\" class=\"dataframe\">\n",
       "  <thead>\n",
       "    <tr style=\"text-align: right;\">\n",
       "      <th></th>\n",
       "      <th>img</th>\n",
       "      <th>label</th>\n",
       "      <th>encode_label</th>\n",
       "    </tr>\n",
       "  </thead>\n",
       "  <tbody>\n",
       "    <tr>\n",
       "      <th>0</th>\n",
       "      <td>C:/Users/zeyil/Desktop/data science/hw malaria...</td>\n",
       "      <td>Parasitized</td>\n",
       "      <td>1</td>\n",
       "    </tr>\n",
       "    <tr>\n",
       "      <th>1</th>\n",
       "      <td>C:/Users/zeyil/Desktop/data science/hw malaria...</td>\n",
       "      <td>Parasitized</td>\n",
       "      <td>1</td>\n",
       "    </tr>\n",
       "    <tr>\n",
       "      <th>2</th>\n",
       "      <td>C:/Users/zeyil/Desktop/data science/hw malaria...</td>\n",
       "      <td>Parasitized</td>\n",
       "      <td>1</td>\n",
       "    </tr>\n",
       "    <tr>\n",
       "      <th>3</th>\n",
       "      <td>C:/Users/zeyil/Desktop/data science/hw malaria...</td>\n",
       "      <td>Parasitized</td>\n",
       "      <td>1</td>\n",
       "    </tr>\n",
       "    <tr>\n",
       "      <th>4</th>\n",
       "      <td>C:/Users/zeyil/Desktop/data science/hw malaria...</td>\n",
       "      <td>Parasitized</td>\n",
       "      <td>1</td>\n",
       "    </tr>\n",
       "  </tbody>\n",
       "</table>\n",
       "</div>"
      ],
      "text/plain": [
       "                                                 img        label  \\\n",
       "0  C:/Users/zeyil/Desktop/data science/hw malaria...  Parasitized   \n",
       "1  C:/Users/zeyil/Desktop/data science/hw malaria...  Parasitized   \n",
       "2  C:/Users/zeyil/Desktop/data science/hw malaria...  Parasitized   \n",
       "3  C:/Users/zeyil/Desktop/data science/hw malaria...  Parasitized   \n",
       "4  C:/Users/zeyil/Desktop/data science/hw malaria...  Parasitized   \n",
       "\n",
       "   encode_label  \n",
       "0             1  \n",
       "1             1  \n",
       "2             1  \n",
       "3             1  \n",
       "4             1  "
      ]
     },
     "execution_count": 11,
     "metadata": {},
     "output_type": "execute_result"
    }
   ],
   "source": [
    "df.head()"
   ]
  },
  {
   "cell_type": "code",
   "execution_count": 12,
   "id": "7ba26b59-3935-4f51-ab97-b639dd7c7981",
   "metadata": {},
   "outputs": [],
   "source": [
    "x=[]\n",
    "for img in df[\"img\"]:\n",
    "    im= cv2.imread(str(img))\n",
    "    im = cv2.resize(im,(170,170))\n",
    "    im= im/ 255.0\n",
    "    x.append(im)"
   ]
  },
  {
   "cell_type": "code",
   "execution_count": 13,
   "id": "7c587bf4-d9e1-46a9-8af4-9dbf8a4565d6",
   "metadata": {},
   "outputs": [],
   "source": [
    "x= np.array(x)"
   ]
  },
  {
   "cell_type": "code",
   "execution_count": 14,
   "id": "b9479050-d626-442f-bc0e-ff519001345b",
   "metadata": {},
   "outputs": [],
   "source": [
    "y= df[\"encode_label\"]"
   ]
  },
  {
   "cell_type": "code",
   "execution_count": 15,
   "id": "a0fe3c91-3b2a-41d0-8c72-2bedda762e65",
   "metadata": {},
   "outputs": [],
   "source": [
    "x_train, x_test, y_train, y_test= train_test_split(x,y, test_size=.20, random_state=42)"
   ]
  },
  {
   "cell_type": "code",
   "execution_count": 16,
   "id": "0a499178-bc9c-4b8c-b6bc-ae1efe8e48ef",
   "metadata": {},
   "outputs": [],
   "source": [
    "model= Sequential()\n",
    "model.add(Input(shape= (170,170,3)))\n",
    "model.add(Conv2D(32,kernel_size=(3,3),activation= \"relu\"))\n",
    "model.add(MaxPooling2D(pool_size=(2,2)))\n",
    "model.add(Conv2D(64, kernel_size=(3,3), activation=\"relu\"))\n",
    "model.add(MaxPooling2D(pool_size=(2,2)))\n",
    "model.add(Flatten())\n",
    "model.add(Dense(128))\n",
    "model.add(Dense(2, activation=\"softmax\"))\n",
    "# Modeli derliyoruz (compile ediyoruz). Bu aşama, modelin eğitim sürecine başlamadan önce yapılandırılması için gereklidir.\n",
    "model.compile(\n",
    "    optimizer=\"adam\",  # \"adam\" optimizasyon algoritması kullanıyoruz. Adam, eğitim sürecinde öğrenme oranını dinamik olarak ayarlayarak hızlı ve etkili bir şekilde konverjans sağlar.\n",
    "    loss=\"sparse_categorical_crossentropy\",  # Kayıp fonksiyonu olarak \"sparse_categorical_crossentropy\" seçiyoruz. Bu, etiketlerin tamsayı biçiminde olduğu ve çok sınıflı sınıflandırma problemleri için uygun bir kayıp fonksiyonudur.\n",
    "    metrics=[\"accuracy\"]  # Modelin başarımını ölçmek için \"accuracy\" (doğruluk) metriğini kullanıyoruz. Bu metrik, modelin doğru tahmin oranını gösterir ve eğitim sürecinde performansı takip etmemize yardımcı olur.\n",
    ")"
   ]
  },
  {
   "cell_type": "code",
   "execution_count": 17,
   "id": "deb0fee4-47d6-4de8-91b2-f0daed6ed26a",
   "metadata": {},
   "outputs": [
    {
     "name": "stdout",
     "output_type": "stream",
     "text": [
      "Epoch 1/20\n",
      "\u001b[1m689/689\u001b[0m \u001b[32m━━━━━━━━━━━━━━━━━━━━\u001b[0m\u001b[37m\u001b[0m \u001b[1m114s\u001b[0m 157ms/step - accuracy: 0.5675 - loss: 1.5362 - val_accuracy: 0.6272 - val_loss: 0.6484\n",
      "Epoch 2/20\n",
      "\u001b[1m689/689\u001b[0m \u001b[32m━━━━━━━━━━━━━━━━━━━━\u001b[0m\u001b[37m\u001b[0m \u001b[1m101s\u001b[0m 147ms/step - accuracy: 0.6443 - loss: 0.6291 - val_accuracy: 0.6279 - val_loss: 0.6408\n",
      "Epoch 3/20\n",
      "\u001b[1m689/689\u001b[0m \u001b[32m━━━━━━━━━━━━━━━━━━━━\u001b[0m\u001b[37m\u001b[0m \u001b[1m104s\u001b[0m 150ms/step - accuracy: 0.6963 - loss: 0.5848 - val_accuracy: 0.6413 - val_loss: 0.6517\n",
      "Epoch 4/20\n",
      "\u001b[1m689/689\u001b[0m \u001b[32m━━━━━━━━━━━━━━━━━━━━\u001b[0m\u001b[37m\u001b[0m \u001b[1m94s\u001b[0m 137ms/step - accuracy: 0.7275 - loss: 0.5380 - val_accuracy: 0.6460 - val_loss: 0.6605\n",
      "Epoch 5/20\n",
      "\u001b[1m689/689\u001b[0m \u001b[32m━━━━━━━━━━━━━━━━━━━━\u001b[0m\u001b[37m\u001b[0m \u001b[1m94s\u001b[0m 136ms/step - accuracy: 0.7475 - loss: 0.5039 - val_accuracy: 0.6411 - val_loss: 0.6768\n",
      "Epoch 6/20\n",
      "\u001b[1m689/689\u001b[0m \u001b[32m━━━━━━━━━━━━━━━━━━━━\u001b[0m\u001b[37m\u001b[0m \u001b[1m94s\u001b[0m 136ms/step - accuracy: 0.7820 - loss: 0.4695 - val_accuracy: 0.6384 - val_loss: 0.7042\n",
      "Epoch 7/20\n",
      "\u001b[1m689/689\u001b[0m \u001b[32m━━━━━━━━━━━━━━━━━━━━\u001b[0m\u001b[37m\u001b[0m \u001b[1m93s\u001b[0m 135ms/step - accuracy: 0.8141 - loss: 0.4082 - val_accuracy: 0.6852 - val_loss: 0.6287\n",
      "Epoch 8/20\n",
      "\u001b[1m689/689\u001b[0m \u001b[32m━━━━━━━━━━━━━━━━━━━━\u001b[0m\u001b[37m\u001b[0m \u001b[1m94s\u001b[0m 136ms/step - accuracy: 0.9077 - loss: 0.2659 - val_accuracy: 0.7745 - val_loss: 0.5546\n",
      "Epoch 9/20\n",
      "\u001b[1m689/689\u001b[0m \u001b[32m━━━━━━━━━━━━━━━━━━━━\u001b[0m\u001b[37m\u001b[0m \u001b[1m93s\u001b[0m 135ms/step - accuracy: 0.9237 - loss: 0.2214 - val_accuracy: 0.8335 - val_loss: 0.5453\n",
      "Epoch 10/20\n",
      "\u001b[1m689/689\u001b[0m \u001b[32m━━━━━━━━━━━━━━━━━━━━\u001b[0m\u001b[37m\u001b[0m \u001b[1m92s\u001b[0m 133ms/step - accuracy: 0.9307 - loss: 0.2017 - val_accuracy: 0.7810 - val_loss: 0.6336\n",
      "Epoch 11/20\n",
      "\u001b[1m689/689\u001b[0m \u001b[32m━━━━━━━━━━━━━━━━━━━━\u001b[0m\u001b[37m\u001b[0m \u001b[1m95s\u001b[0m 139ms/step - accuracy: 0.9380 - loss: 0.1828 - val_accuracy: 0.8511 - val_loss: 0.6186\n",
      "Epoch 12/20\n",
      "\u001b[1m689/689\u001b[0m \u001b[32m━━━━━━━━━━━━━━━━━━━━\u001b[0m\u001b[37m\u001b[0m \u001b[1m102s\u001b[0m 148ms/step - accuracy: 0.9541 - loss: 0.1434 - val_accuracy: 0.8226 - val_loss: 0.6571\n",
      "Epoch 13/20\n",
      "\u001b[1m689/689\u001b[0m \u001b[32m━━━━━━━━━━━━━━━━━━━━\u001b[0m\u001b[37m\u001b[0m \u001b[1m102s\u001b[0m 148ms/step - accuracy: 0.9586 - loss: 0.1324 - val_accuracy: 0.8360 - val_loss: 0.7924\n",
      "Epoch 14/20\n",
      "\u001b[1m689/689\u001b[0m \u001b[32m━━━━━━━━━━━━━━━━━━━━\u001b[0m\u001b[37m\u001b[0m \u001b[1m99s\u001b[0m 144ms/step - accuracy: 0.9712 - loss: 0.0880 - val_accuracy: 0.8286 - val_loss: 0.7641\n",
      "Epoch 15/20\n",
      "\u001b[1m689/689\u001b[0m \u001b[32m━━━━━━━━━━━━━━━━━━━━\u001b[0m\u001b[37m\u001b[0m \u001b[1m103s\u001b[0m 149ms/step - accuracy: 0.9606 - loss: 0.1257 - val_accuracy: 0.8177 - val_loss: 0.8339\n",
      "Epoch 16/20\n",
      "\u001b[1m689/689\u001b[0m \u001b[32m━━━━━━━━━━━━━━━━━━━━\u001b[0m\u001b[37m\u001b[0m \u001b[1m98s\u001b[0m 143ms/step - accuracy: 0.9738 - loss: 0.0833 - val_accuracy: 0.7075 - val_loss: 0.8916\n",
      "Epoch 17/20\n",
      "\u001b[1m689/689\u001b[0m \u001b[32m━━━━━━━━━━━━━━━━━━━━\u001b[0m\u001b[37m\u001b[0m \u001b[1m100s\u001b[0m 145ms/step - accuracy: 0.9617 - loss: 0.1189 - val_accuracy: 0.8262 - val_loss: 1.0199\n",
      "Epoch 18/20\n",
      "\u001b[1m689/689\u001b[0m \u001b[32m━━━━━━━━━━━━━━━━━━━━\u001b[0m\u001b[37m\u001b[0m \u001b[1m99s\u001b[0m 143ms/step - accuracy: 0.9737 - loss: 0.0911 - val_accuracy: 0.7905 - val_loss: 0.9089\n",
      "Epoch 19/20\n",
      "\u001b[1m689/689\u001b[0m \u001b[32m━━━━━━━━━━━━━━━━━━━━\u001b[0m\u001b[37m\u001b[0m \u001b[1m103s\u001b[0m 149ms/step - accuracy: 0.9829 - loss: 0.0565 - val_accuracy: 0.8316 - val_loss: 1.1527\n",
      "Epoch 20/20\n",
      "\u001b[1m689/689\u001b[0m \u001b[32m━━━━━━━━━━━━━━━━━━━━\u001b[0m\u001b[37m\u001b[0m \u001b[1m99s\u001b[0m 143ms/step - accuracy: 0.9824 - loss: 0.0553 - val_accuracy: 0.7427 - val_loss: 1.2177\n"
     ]
    }
   ],
   "source": [
    "history = model.fit(\n",
    "    x_train,  \n",
    "    y_train,  \n",
    "    validation_data=(x_test, y_test), \n",
    "    epochs=20,  # Eğitim sürecinde modelin veriler üzerinde kaç kez geçeceğini belirtir. Bu örnekte, model veriler üzerinde 15 defa geçecek.\n",
    "    verbose=1  # Eğitim sürecinin ilerlemesini detaylı olarak göstermek için kullanılır. \"1\" değeri, eğitim sırasında ilerleme çubuğu ve her epoch sonunda doğruluk ve kayıp değerlerini gösterir.\n",
    ")"
   ]
  },
  {
   "cell_type": "markdown",
   "id": "d052bb01-d89c-4b66-97df-3eb276507407",
   "metadata": {},
   "source": [
    "\n",
    "## Eğitim Sonuçları\n",
    "- **Eğitim Doğruluğu:** %98.24\n",
    "- **Test Doğruluğu:** 0.74\n",
    "- **Eğitim Kaybı:** 0.05\n",
    "- **Test Kaybı:** 1.21"
   ]
  },
  {
   "cell_type": "code",
   "execution_count": 20,
   "id": "14ead0b8-03b8-4b9e-bc0b-cdf803106321",
   "metadata": {},
   "outputs": [
    {
     "data": {
      "text/html": [
       "<pre style=\"white-space:pre;overflow-x:auto;line-height:normal;font-family:Menlo,'DejaVu Sans Mono',consolas,'Courier New',monospace\"><span style=\"font-weight: bold\">Model: \"sequential\"</span>\n",
       "</pre>\n"
      ],
      "text/plain": [
       "\u001b[1mModel: \"sequential\"\u001b[0m\n"
      ]
     },
     "metadata": {},
     "output_type": "display_data"
    },
    {
     "data": {
      "text/html": [
       "<pre style=\"white-space:pre;overflow-x:auto;line-height:normal;font-family:Menlo,'DejaVu Sans Mono',consolas,'Courier New',monospace\">┏━━━━━━━━━━━━━━━━━━━━━━━━━━━━━━━━━━━━━━┳━━━━━━━━━━━━━━━━━━━━━━━━━━━━━┳━━━━━━━━━━━━━━━━━┓\n",
       "┃<span style=\"font-weight: bold\"> Layer (type)                         </span>┃<span style=\"font-weight: bold\"> Output Shape                </span>┃<span style=\"font-weight: bold\">         Param # </span>┃\n",
       "┡━━━━━━━━━━━━━━━━━━━━━━━━━━━━━━━━━━━━━━╇━━━━━━━━━━━━━━━━━━━━━━━━━━━━━╇━━━━━━━━━━━━━━━━━┩\n",
       "│ conv2d (<span style=\"color: #0087ff; text-decoration-color: #0087ff\">Conv2D</span>)                      │ (<span style=\"color: #00d7ff; text-decoration-color: #00d7ff\">None</span>, <span style=\"color: #00af00; text-decoration-color: #00af00\">168</span>, <span style=\"color: #00af00; text-decoration-color: #00af00\">168</span>, <span style=\"color: #00af00; text-decoration-color: #00af00\">32</span>)        │             <span style=\"color: #00af00; text-decoration-color: #00af00\">896</span> │\n",
       "├──────────────────────────────────────┼─────────────────────────────┼─────────────────┤\n",
       "│ max_pooling2d (<span style=\"color: #0087ff; text-decoration-color: #0087ff\">MaxPooling2D</span>)         │ (<span style=\"color: #00d7ff; text-decoration-color: #00d7ff\">None</span>, <span style=\"color: #00af00; text-decoration-color: #00af00\">84</span>, <span style=\"color: #00af00; text-decoration-color: #00af00\">84</span>, <span style=\"color: #00af00; text-decoration-color: #00af00\">32</span>)          │               <span style=\"color: #00af00; text-decoration-color: #00af00\">0</span> │\n",
       "├──────────────────────────────────────┼─────────────────────────────┼─────────────────┤\n",
       "│ conv2d_1 (<span style=\"color: #0087ff; text-decoration-color: #0087ff\">Conv2D</span>)                    │ (<span style=\"color: #00d7ff; text-decoration-color: #00d7ff\">None</span>, <span style=\"color: #00af00; text-decoration-color: #00af00\">82</span>, <span style=\"color: #00af00; text-decoration-color: #00af00\">82</span>, <span style=\"color: #00af00; text-decoration-color: #00af00\">64</span>)          │          <span style=\"color: #00af00; text-decoration-color: #00af00\">18,496</span> │\n",
       "├──────────────────────────────────────┼─────────────────────────────┼─────────────────┤\n",
       "│ max_pooling2d_1 (<span style=\"color: #0087ff; text-decoration-color: #0087ff\">MaxPooling2D</span>)       │ (<span style=\"color: #00d7ff; text-decoration-color: #00d7ff\">None</span>, <span style=\"color: #00af00; text-decoration-color: #00af00\">41</span>, <span style=\"color: #00af00; text-decoration-color: #00af00\">41</span>, <span style=\"color: #00af00; text-decoration-color: #00af00\">64</span>)          │               <span style=\"color: #00af00; text-decoration-color: #00af00\">0</span> │\n",
       "├──────────────────────────────────────┼─────────────────────────────┼─────────────────┤\n",
       "│ flatten (<span style=\"color: #0087ff; text-decoration-color: #0087ff\">Flatten</span>)                    │ (<span style=\"color: #00d7ff; text-decoration-color: #00d7ff\">None</span>, <span style=\"color: #00af00; text-decoration-color: #00af00\">107584</span>)              │               <span style=\"color: #00af00; text-decoration-color: #00af00\">0</span> │\n",
       "├──────────────────────────────────────┼─────────────────────────────┼─────────────────┤\n",
       "│ dense (<span style=\"color: #0087ff; text-decoration-color: #0087ff\">Dense</span>)                        │ (<span style=\"color: #00d7ff; text-decoration-color: #00d7ff\">None</span>, <span style=\"color: #00af00; text-decoration-color: #00af00\">128</span>)                 │      <span style=\"color: #00af00; text-decoration-color: #00af00\">13,770,880</span> │\n",
       "├──────────────────────────────────────┼─────────────────────────────┼─────────────────┤\n",
       "│ dense_1 (<span style=\"color: #0087ff; text-decoration-color: #0087ff\">Dense</span>)                      │ (<span style=\"color: #00d7ff; text-decoration-color: #00d7ff\">None</span>, <span style=\"color: #00af00; text-decoration-color: #00af00\">2</span>)                   │             <span style=\"color: #00af00; text-decoration-color: #00af00\">258</span> │\n",
       "└──────────────────────────────────────┴─────────────────────────────┴─────────────────┘\n",
       "</pre>\n"
      ],
      "text/plain": [
       "┏━━━━━━━━━━━━━━━━━━━━━━━━━━━━━━━━━━━━━━┳━━━━━━━━━━━━━━━━━━━━━━━━━━━━━┳━━━━━━━━━━━━━━━━━┓\n",
       "┃\u001b[1m \u001b[0m\u001b[1mLayer (type)                        \u001b[0m\u001b[1m \u001b[0m┃\u001b[1m \u001b[0m\u001b[1mOutput Shape               \u001b[0m\u001b[1m \u001b[0m┃\u001b[1m \u001b[0m\u001b[1m        Param #\u001b[0m\u001b[1m \u001b[0m┃\n",
       "┡━━━━━━━━━━━━━━━━━━━━━━━━━━━━━━━━━━━━━━╇━━━━━━━━━━━━━━━━━━━━━━━━━━━━━╇━━━━━━━━━━━━━━━━━┩\n",
       "│ conv2d (\u001b[38;5;33mConv2D\u001b[0m)                      │ (\u001b[38;5;45mNone\u001b[0m, \u001b[38;5;34m168\u001b[0m, \u001b[38;5;34m168\u001b[0m, \u001b[38;5;34m32\u001b[0m)        │             \u001b[38;5;34m896\u001b[0m │\n",
       "├──────────────────────────────────────┼─────────────────────────────┼─────────────────┤\n",
       "│ max_pooling2d (\u001b[38;5;33mMaxPooling2D\u001b[0m)         │ (\u001b[38;5;45mNone\u001b[0m, \u001b[38;5;34m84\u001b[0m, \u001b[38;5;34m84\u001b[0m, \u001b[38;5;34m32\u001b[0m)          │               \u001b[38;5;34m0\u001b[0m │\n",
       "├──────────────────────────────────────┼─────────────────────────────┼─────────────────┤\n",
       "│ conv2d_1 (\u001b[38;5;33mConv2D\u001b[0m)                    │ (\u001b[38;5;45mNone\u001b[0m, \u001b[38;5;34m82\u001b[0m, \u001b[38;5;34m82\u001b[0m, \u001b[38;5;34m64\u001b[0m)          │          \u001b[38;5;34m18,496\u001b[0m │\n",
       "├──────────────────────────────────────┼─────────────────────────────┼─────────────────┤\n",
       "│ max_pooling2d_1 (\u001b[38;5;33mMaxPooling2D\u001b[0m)       │ (\u001b[38;5;45mNone\u001b[0m, \u001b[38;5;34m41\u001b[0m, \u001b[38;5;34m41\u001b[0m, \u001b[38;5;34m64\u001b[0m)          │               \u001b[38;5;34m0\u001b[0m │\n",
       "├──────────────────────────────────────┼─────────────────────────────┼─────────────────┤\n",
       "│ flatten (\u001b[38;5;33mFlatten\u001b[0m)                    │ (\u001b[38;5;45mNone\u001b[0m, \u001b[38;5;34m107584\u001b[0m)              │               \u001b[38;5;34m0\u001b[0m │\n",
       "├──────────────────────────────────────┼─────────────────────────────┼─────────────────┤\n",
       "│ dense (\u001b[38;5;33mDense\u001b[0m)                        │ (\u001b[38;5;45mNone\u001b[0m, \u001b[38;5;34m128\u001b[0m)                 │      \u001b[38;5;34m13,770,880\u001b[0m │\n",
       "├──────────────────────────────────────┼─────────────────────────────┼─────────────────┤\n",
       "│ dense_1 (\u001b[38;5;33mDense\u001b[0m)                      │ (\u001b[38;5;45mNone\u001b[0m, \u001b[38;5;34m2\u001b[0m)                   │             \u001b[38;5;34m258\u001b[0m │\n",
       "└──────────────────────────────────────┴─────────────────────────────┴─────────────────┘\n"
      ]
     },
     "metadata": {},
     "output_type": "display_data"
    },
    {
     "data": {
      "text/html": [
       "<pre style=\"white-space:pre;overflow-x:auto;line-height:normal;font-family:Menlo,'DejaVu Sans Mono',consolas,'Courier New',monospace\"><span style=\"font-weight: bold\"> Total params: </span><span style=\"color: #00af00; text-decoration-color: #00af00\">41,371,592</span> (157.82 MB)\n",
       "</pre>\n"
      ],
      "text/plain": [
       "\u001b[1m Total params: \u001b[0m\u001b[38;5;34m41,371,592\u001b[0m (157.82 MB)\n"
      ]
     },
     "metadata": {},
     "output_type": "display_data"
    },
    {
     "data": {
      "text/html": [
       "<pre style=\"white-space:pre;overflow-x:auto;line-height:normal;font-family:Menlo,'DejaVu Sans Mono',consolas,'Courier New',monospace\"><span style=\"font-weight: bold\"> Trainable params: </span><span style=\"color: #00af00; text-decoration-color: #00af00\">13,790,530</span> (52.61 MB)\n",
       "</pre>\n"
      ],
      "text/plain": [
       "\u001b[1m Trainable params: \u001b[0m\u001b[38;5;34m13,790,530\u001b[0m (52.61 MB)\n"
      ]
     },
     "metadata": {},
     "output_type": "display_data"
    },
    {
     "data": {
      "text/html": [
       "<pre style=\"white-space:pre;overflow-x:auto;line-height:normal;font-family:Menlo,'DejaVu Sans Mono',consolas,'Courier New',monospace\"><span style=\"font-weight: bold\"> Non-trainable params: </span><span style=\"color: #00af00; text-decoration-color: #00af00\">0</span> (0.00 B)\n",
       "</pre>\n"
      ],
      "text/plain": [
       "\u001b[1m Non-trainable params: \u001b[0m\u001b[38;5;34m0\u001b[0m (0.00 B)\n"
      ]
     },
     "metadata": {},
     "output_type": "display_data"
    },
    {
     "data": {
      "text/html": [
       "<pre style=\"white-space:pre;overflow-x:auto;line-height:normal;font-family:Menlo,'DejaVu Sans Mono',consolas,'Courier New',monospace\"><span style=\"font-weight: bold\"> Optimizer params: </span><span style=\"color: #00af00; text-decoration-color: #00af00\">27,581,062</span> (105.21 MB)\n",
       "</pre>\n"
      ],
      "text/plain": [
       "\u001b[1m Optimizer params: \u001b[0m\u001b[38;5;34m27,581,062\u001b[0m (105.21 MB)\n"
      ]
     },
     "metadata": {},
     "output_type": "display_data"
    }
   ],
   "source": [
    "model.summary()"
   ]
  },
  {
   "cell_type": "code",
   "execution_count": 22,
   "id": "6306d0e5-bb04-4be0-be47-fd53450a26d4",
   "metadata": {},
   "outputs": [
    {
     "data": {
      "text/plain": [
       "<matplotlib.legend.Legend at 0x2dc07f65af0>"
      ]
     },
     "execution_count": 22,
     "metadata": {},
     "output_type": "execute_result"
    },
    {
     "data": {
      "image/png": "[encoded data removed]",
      "text/plain": [
       "<Figure size 1000x500 with 1 Axes>"
      ]
     },
     "metadata": {},
     "output_type": "display_data"
    }
   ],
   "source": [
    "plt.figure(figsize=(10,5))\n",
    "plt.subplot(1,2,1)\n",
    "plt.plot(history.history[\"accuracy\"], label=\"Training Accuracy\")\n",
    "plt.plot(history.history[\"val_accuracy\"], label=\"Validation Accuracy\")\n",
    "plt.title(\"Model Accuracy\")\n",
    "plt.xlabel(\"Epoch\")\n",
    "plt.ylabel(\"Accuracy\")\n",
    "plt.legend()"
   ]
  },
  {
   "cell_type": "code",
   "execution_count": 24,
   "id": "504b3b21-e7bb-496e-a601-a24f5238547a",
   "metadata": {},
   "outputs": [
    {
     "data": {
      "text/plain": [
       "<matplotlib.legend.Legend at 0x2dc08240920>"
      ]
     },
     "execution_count": 24,
     "metadata": {},
     "output_type": "execute_result"
    },
    {
     "data": {
      "image/png": "[encoded data removed]",
      "text/plain": [
       "<Figure size 640x480 with 1 Axes>"
      ]
     },
     "metadata": {},
     "output_type": "display_data"
    }
   ],
   "source": [
    "plt.subplot(1,2,2)\n",
    "plt.plot(history.history[\"loss\"], label=\"Training Loss\")\n",
    "plt.plot(history.history[\"val_loss\"], label=\"Validation Loss\")\n",
    "plt.title(\"Model Loss\")\n",
    "plt.xlabel(\"Epoch\")\n",
    "plt.ylabel(\"Loss\")\n",
    "plt.legend()"
   ]
  },
  {
   "cell_type": "code",
   "execution_count": null,
   "id": "ae909c9d-2963-4f84-b50b-f42ce7984142",
   "metadata": {},
   "outputs": [],
   "source": []
  }
 ],
 "metadata": {
  "kernelspec": {
   "display_name": "Python 3 (ipykernel)",
   "language": "python",
   "name": "python3"
  },
  "language_info": {
   "codemirror_mode": {
    "name": "ipython",
    "version": 3
   },
   "file_extension": ".py",
   "mimetype": "text/x-python",
   "name": "python",
   "nbconvert_exporter": "python",
   "pygments_lexer": "ipython3",
   "version": "3.12.4"
  }
 },
 "nbformat": 4,
 "nbformat_minor": 5
}
