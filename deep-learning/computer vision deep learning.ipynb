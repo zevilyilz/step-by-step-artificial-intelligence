{
 "cells": [
  {
   "cell_type": "code",
   "execution_count": 1,
   "id": "0778b2ee-a144-4896-8115-bc9c87afdec0",
   "metadata": {},
   "outputs": [
    {
     "name": "stdout",
     "output_type": "stream",
     "text": [
      "Requirement already satisfied: bing_image_downloader in c:\\users\\zeyil\\anaconda3\\lib\\site-packages (1.1.2)\n",
      "Note: you may need to restart the kernel to use updated packages.\n"
     ]
    }
   ],
   "source": [
    "pip install bing_image_downloader"
   ]
  },
  {
   "cell_type": "code",
   "execution_count": 2,
   "id": "98708013-15ec-473d-8e36-00cb93d14192",
   "metadata": {},
   "outputs": [],
   "source": [
    "from bing_image_downloader import downloader"
   ]
  },
  {
   "cell_type": "code",
   "execution_count": 3,
   "id": "20feab1c-1b1f-4c95-bbe7-aa73c5644fa1",
   "metadata": {},
   "outputs": [],
   "source": [
    "# downloader.download(\"horse\",limit=100, adult_filter_off= False)\n",
    "# belirli bir indirme işleminde \"yetişkin içerik filtresinin\" kapalı olup olmadığını belirler"
   ]
  },
  {
   "cell_type": "code",
   "execution_count": 4,
   "id": "7df864ff-9f5c-4210-9749-4dc709b49f4a",
   "metadata": {},
   "outputs": [],
   "source": [
    "# downloader.download(\"bird\",limit=100, adult_filter_off= False)"
   ]
  },
  {
   "cell_type": "markdown",
   "id": "464e9cd6-9958-498c-b7c4-6006b27d397f",
   "metadata": {},
   "source": [
    "## computer vision with deep learning "
   ]
  },
  {
   "cell_type": "code",
   "execution_count": 5,
   "id": "e3ea80c9-b9db-4f55-96a1-05d3210dc6f5",
   "metadata": {},
   "outputs": [],
   "source": [
    "import tensorflow as tf"
   ]
  },
  {
   "cell_type": "code",
   "execution_count": 6,
   "id": "57076230-bde8-4830-aeee-4f7471a1a77a",
   "metadata": {},
   "outputs": [],
   "source": [
    "mnist= tf.keras.datasets.mnist  \n",
    "# el ayzması rakamlar tanıma"
   ]
  },
  {
   "cell_type": "code",
   "execution_count": 7,
   "id": "7c8e0aca-9b4f-4cc0-ae8b-6a4b9797dedd",
   "metadata": {},
   "outputs": [],
   "source": [
    "(train_images, train_labels), (test_images,test_labels)= mnist.load_data()"
   ]
  },
  {
   "cell_type": "code",
   "execution_count": 8,
   "id": "f5b4f679-a2f9-48ab-a9b8-bea24af8c9e4",
   "metadata": {},
   "outputs": [
    {
     "data": {
      "text/plain": [
       "(60000, 28, 28)"
      ]
     },
     "execution_count": 8,
     "metadata": {},
     "output_type": "execute_result"
    }
   ],
   "source": [
    "train_images.shape"
   ]
  },
  {
   "cell_type": "code",
   "execution_count": 9,
   "id": "d033bdae-c7ac-4927-9eec-fb0130abdc92",
   "metadata": {},
   "outputs": [],
   "source": [
    "import matplotlib.pyplot as plt"
   ]
  },
  {
   "cell_type": "code",
   "execution_count": 10,
   "id": "0b54dc6e-6c81-4c75-bbaf-26649a5db814",
   "metadata": {},
   "outputs": [
    {
     "data": {
      "text/plain": [
       "<matplotlib.image.AxesImage at 0x1a915d93620>"
      ]
     },
     "execution_count": 10,
     "metadata": {},
     "output_type": "execute_result"
    },
    {
     "data": {
      "image/png": "[encoded data removed]",
      "text/plain": [
       "<Figure size 640x480 with 1 Axes>"
      ]
     },
     "metadata": {},
     "output_type": "display_data"
    }
   ],
   "source": [
    "plt.imshow(train_images[0], cmap=\"gray\")"
   ]
  },
  {
   "cell_type": "code",
   "execution_count": 11,
   "id": "a6f53cb1-2964-4f5b-bdc2-9716d7b085d9",
   "metadata": {},
   "outputs": [
    {
     "data": {
      "text/plain": [
       "<matplotlib.image.AxesImage at 0x1a916f62f60>"
      ]
     },
     "execution_count": 11,
     "metadata": {},
     "output_type": "execute_result"
    },
    {
     "data": {
      "image/png": "[encoded data removed]",
      "text/plain": [
       "<Figure size 640x480 with 1 Axes>"
      ]
     },
     "metadata": {},
     "output_type": "display_data"
    }
   ],
   "source": [
    "plt.imshow(train_images[10000], cmap=\"gray\")"
   ]
  },
  {
   "cell_type": "code",
   "execution_count": 12,
   "id": "785ff5ea-cf12-4cb6-874e-284ed6d0da92",
   "metadata": {},
   "outputs": [
    {
     "data": {
      "text/plain": [
       "3"
      ]
     },
     "execution_count": 12,
     "metadata": {},
     "output_type": "execute_result"
    }
   ],
   "source": [
    "train_labels[10000]"
   ]
  },
  {
   "cell_type": "code",
   "execution_count": 13,
   "id": "917a8674-f4a1-4255-8d5f-0e44e3aa7d17",
   "metadata": {},
   "outputs": [
    {
     "data": {
      "text/plain": [
       "(10000, 28, 28)"
      ]
     },
     "execution_count": 13,
     "metadata": {},
     "output_type": "execute_result"
    }
   ],
   "source": [
    "test_images.shape"
   ]
  },
  {
   "cell_type": "code",
   "execution_count": 14,
   "id": "5eb3bb6d-daad-4dec-8019-701f96ff0a33",
   "metadata": {},
   "outputs": [],
   "source": [
    "# normalize data"
   ]
  },
  {
   "cell_type": "code",
   "execution_count": 15,
   "id": "11ae3492-fdaa-4ca3-83cd-9c3be5a8efac",
   "metadata": {},
   "outputs": [],
   "source": [
    "train_images= train_images/255.0\n",
    "test_iamges= test_images/255.0\n",
    "#  bir resim 0 255 arası piksekllere sahip 255 e bölerek değeleri 0 1 arasına normalize etmiş oluyoruz"
   ]
  },
  {
   "cell_type": "markdown",
   "id": "a2bedcc3-d17f-4208-b6a1-fa328fe26c8f",
   "metadata": {},
   "source": [
    "<img src= https://cdn.educba.com/academy/wp-content/uploads/2019/05/Normalization-Formula.jpg>"
   ]
  },
  {
   "cell_type": "markdown",
   "id": "cd495411-814a-41d2-9fa9-366b60b19ba0",
   "metadata": {},
   "source": [
    "## convolutional neural networks  -CNN  -image classificaiton"
   ]
  },
  {
   "cell_type": "code",
   "execution_count": 24,
   "id": "364d489e-5ef1-42fe-82d4-5e851efa168e",
   "metadata": {},
   "outputs": [],
   "source": [
    "from tensorflow.keras.models import Sequential\n",
    "from tensorflow.keras.layers import Dense, Conv2D, InputLayer,Reshape, MaxPooling2D,Flatten, Dropout,BatchNormalization"
   ]
  },
  {
   "cell_type": "code",
   "execution_count": 23,
   "id": "e4f5cefb-69d1-4e02-a251-36766f87f403",
   "metadata": {},
   "outputs": [],
   "source": [
    "model= Sequential()\n",
    "# Sequential(): Katmanları sırayla ekleyebileceğiniz bir model türüdür. Modelin akışı sırasal olacak, yani her katman bir öncekine bağlıdır.\n",
    "model.add(InputLayer(input_shape=(28,28)))\n",
    "# InputLayer(input_shape=(28,28)): Modelin giriş boyutu 28x28 olarak ayarlanır. Bu, girdi verisinin bir 28x28 boyutundaki görüntü olduğunu belirtir.\n",
    "model.add(Reshape(target_shape=(28,28,1)))\n",
    "# Reshape(target_shape=(28,28,1)): Görüntü 2D (28x28) bir formattan 3D (28x28x1) bir formata çevrilir. Son boyut olan 1, görüntünün gri tonlamalı olduğunu (tek renk kanalı) belirtir. Renkli görüntülerde bu değer 3 olur (RGB kanalları için).\n",
    "model.add(Conv2D(filters=12,kernel_size=(3,3),activation=\"relu\"))\n",
    "# filters=12: 12 adet filtre uygulanacak. Bu, 12 farklı özellik haritası çıkarılacağı anlamına gelir.\n",
    "# kernel_size=(3,3): 3x3 boyutunda filtreler kullanılacak.\n",
    "model.add(MaxPooling2D(pool_size=(2,2)))\n",
    "model.add(Flatten())\n",
    "# Flatten(): 2D (veya 3D) özellik haritaları düzleştirilir ve tek bir boyuta dönüştürülür. Bu, yoğun (fully connected) katmana geçmeden önce verilerin bir vektör haline getirilmesi içindir.\n",
    "model.add(Dense(10))  \n",
    "#  10farklı cevap classificition 0-9 a kadar olan rakamlar\n",
    "model.compile(optimizer=\"adam\",loss=tf.keras.losses.SparseCategoricalCrossentropy(from_logits=True),metrics=[\"accuracy\"])\n",
    "    # optimizer=\"adam\": Modelin parametrelerini optimize etmek için Adam optimizasyon algoritması kullanılır. Adam, öğrenme hızı ayarlamalarını otomatik olarak yapan verimli bir algoritmadır.\n",
    "loss=tf.keras.losses.SparseCategoricalCrossentropy(from_logits=True)\n",
    "# Kayıp fonksiyonu olarak Sparse Categorical Crossentropy kullanılır. Bu, her sınıfa ait olasılıkları hesaplayarak sınıflandırma hatasını ölçer. from_logits=True demek, çıktıların doğrudan tahmin edilen logit değerlerinden geldiğini belirtir.\n",
    "# metrics=[\"accuracy\"]: Eğitim sırasında modelin başarımını değerlendirmek için doğruluk metriği (accuracy) kullanılacak.\n"
   ]
  },
  {
   "cell_type": "code",
   "execution_count": 18,
   "id": "0f15f50b-c64a-4d91-ba0e-fd053d307930",
   "metadata": {},
   "outputs": [
    {
     "name": "stdout",
     "output_type": "stream",
     "text": [
      "Epoch 1/10\n",
      "\u001b[1m1688/1688\u001b[0m \u001b[32m━━━━━━━━━━━━━━━━━━━━\u001b[0m\u001b[37m\u001b[0m \u001b[1m3s\u001b[0m 1ms/step - accuracy: 0.8640 - loss: 0.4978 - val_accuracy: 0.9628 - val_loss: 0.1449\n",
      "Epoch 2/10\n",
      "\u001b[1m1688/1688\u001b[0m \u001b[32m━━━━━━━━━━━━━━━━━━━━\u001b[0m\u001b[37m\u001b[0m \u001b[1m2s\u001b[0m 1ms/step - accuracy: 0.9592 - loss: 0.1476 - val_accuracy: 0.9733 - val_loss: 0.0960\n",
      "Epoch 3/10\n",
      "\u001b[1m1688/1688\u001b[0m \u001b[32m━━━━━━━━━━━━━━━━━━━━\u001b[0m\u001b[37m\u001b[0m \u001b[1m2s\u001b[0m 1ms/step - accuracy: 0.9705 - loss: 0.1025 - val_accuracy: 0.9768 - val_loss: 0.0817\n",
      "Epoch 4/10\n",
      "\u001b[1m1688/1688\u001b[0m \u001b[32m━━━━━━━━━━━━━━━━━━━━\u001b[0m\u001b[37m\u001b[0m \u001b[1m2s\u001b[0m 1ms/step - accuracy: 0.9775 - loss: 0.0761 - val_accuracy: 0.9820 - val_loss: 0.0700\n",
      "Epoch 5/10\n",
      "\u001b[1m1688/1688\u001b[0m \u001b[32m━━━━━━━━━━━━━━━━━━━━\u001b[0m\u001b[37m\u001b[0m \u001b[1m2s\u001b[0m 1ms/step - accuracy: 0.9816 - loss: 0.0598 - val_accuracy: 0.9827 - val_loss: 0.0626\n",
      "Epoch 6/10\n",
      "\u001b[1m1688/1688\u001b[0m \u001b[32m━━━━━━━━━━━━━━━━━━━━\u001b[0m\u001b[37m\u001b[0m \u001b[1m2s\u001b[0m 1ms/step - accuracy: 0.9842 - loss: 0.0518 - val_accuracy: 0.9810 - val_loss: 0.0659\n",
      "Epoch 7/10\n",
      "\u001b[1m1688/1688\u001b[0m \u001b[32m━━━━━━━━━━━━━━━━━━━━\u001b[0m\u001b[37m\u001b[0m \u001b[1m2s\u001b[0m 1ms/step - accuracy: 0.9865 - loss: 0.0466 - val_accuracy: 0.9852 - val_loss: 0.0581\n",
      "Epoch 8/10\n",
      "\u001b[1m1688/1688\u001b[0m \u001b[32m━━━━━━━━━━━━━━━━━━━━\u001b[0m\u001b[37m\u001b[0m \u001b[1m2s\u001b[0m 1ms/step - accuracy: 0.9868 - loss: 0.0425 - val_accuracy: 0.9847 - val_loss: 0.0592\n",
      "Epoch 9/10\n",
      "\u001b[1m1688/1688\u001b[0m \u001b[32m━━━━━━━━━━━━━━━━━━━━\u001b[0m\u001b[37m\u001b[0m \u001b[1m2s\u001b[0m 1ms/step - accuracy: 0.9898 - loss: 0.0347 - val_accuracy: 0.9818 - val_loss: 0.0660\n",
      "Epoch 10/10\n",
      "\u001b[1m1688/1688\u001b[0m \u001b[32m━━━━━━━━━━━━━━━━━━━━\u001b[0m\u001b[37m\u001b[0m \u001b[1m2s\u001b[0m 1ms/step - accuracy: 0.9901 - loss: 0.0334 - val_accuracy: 0.9837 - val_loss: 0.0587\n"
     ]
    },
    {
     "data": {
      "text/plain": [
       "<keras.src.callbacks.history.History at 0x1a916f633e0>"
      ]
     },
     "execution_count": 18,
     "metadata": {},
     "output_type": "execute_result"
    }
   ],
   "source": [
    "model.fit(train_images,train_labels, validation_split= .10 , epochs=10)"
   ]
  },
  {
   "cell_type": "code",
   "execution_count": 19,
   "id": "6c31e48f-6c5b-40b5-a540-dd55e7c50772",
   "metadata": {},
   "outputs": [
    {
     "name": "stdout",
     "output_type": "stream",
     "text": [
      "\u001b[1m313/313\u001b[0m \u001b[32m━━━━━━━━━━━━━━━━━━━━\u001b[0m\u001b[37m\u001b[0m \u001b[1m0s\u001b[0m 871us/step - accuracy: 0.5797 - loss: 652.6223\n"
     ]
    }
   ],
   "source": [
    "loss,accuracy = model.evaluate(test_images,test_labels)"
   ]
  },
  {
   "cell_type": "code",
   "execution_count": 20,
   "id": "d3dfbc46-14f7-45c2-9bd9-734698996d26",
   "metadata": {},
   "outputs": [
    {
     "data": {
      "text/plain": [
       "0.6014999747276306"
      ]
     },
     "execution_count": 20,
     "metadata": {},
     "output_type": "execute_result"
    }
   ],
   "source": [
    "accuracy"
   ]
  },
  {
   "cell_type": "code",
   "execution_count": 21,
   "id": "811c7d9c-e4c5-4c1c-a530-db682486f0ef",
   "metadata": {},
   "outputs": [
    {
     "name": "stderr",
     "output_type": "stream",
     "text": [
      "WARNING:absl:You are saving your model as an HDF5 file via `model.save()` or `keras.saving.save_model(model)`. This file format is considered legacy. We recommend using instead the native Keras format, e.g. `model.save('my_model.keras')` or `keras.saving.save_model(model, 'my_model.keras')`. \n"
     ]
    }
   ],
   "source": [
    "model.save(\"benimmodel.h5\")"
   ]
  },
  {
   "cell_type": "code",
   "execution_count": null,
   "id": "c954ef97-0d13-463e-8491-39f5c9b7f9d0",
   "metadata": {},
   "outputs": [],
   "source": [
    "# df= tf.keras.utils.image_dataset_from_directory(\"Skin_Data\")"
   ]
  },
  {
   "cell_type": "code",
   "execution_count": 25,
   "id": "cd20ab58-5f50-4adf-aa75-153897fd45df",
   "metadata": {},
   "outputs": [
    {
     "name": "stderr",
     "output_type": "stream",
     "text": [
      "C:\\Users\\zeyil\\anaconda3\\Lib\\site-packages\\keras\\src\\layers\\core\\input_layer.py:26: UserWarning: Argument `input_shape` is deprecated. Use `shape` instead.\n",
      "  warnings.warn(\n"
     ]
    }
   ],
   "source": [
    "model= Sequential()\n",
    "model.add(InputLayer(input_shape=(28,28)))\n",
    "model.add(Reshape(target_shape=(28,28,1)))\n",
    "model.add(Conv2D(filters=12,kernel_size=(3,3),activation=\"relu\"))\n",
    "model.add(MaxPooling2D(pool_size=(2,2)))\n",
    "model.add(Flatten())\n",
    "model.add(BatchNormalization())\n",
    "model.add(Dense(60))  \n",
    "model.add(Dropout(.25))\n",
    "model.compile(optimizer=\"adam\",loss=tf.keras.losses.SparseCategoricalCrossentropy(from_logits=True),metrics=[\"accuracy\"])\n",
    "loss=tf.keras.losses.SparseCategoricalCrossentropy(from_logits=True)\n"
   ]
  },
  {
   "cell_type": "code",
   "execution_count": null,
   "id": "fc887cfa-eaf6-4656-af19-1cd0784b4c12",
   "metadata": {},
   "outputs": [],
   "source": [
    "#  deep learningde başarı oranını arttırma teknikleri\n",
    "1- Layers saysını arttırma\n",
    "2- neuron sayısını arttırma\n",
    "3- Dropout overfittingi engeller daha iyi öğrenmeyi saağlar\n",
    "4- batchnormalizaiton\n",
    "5- "
   ]
  }
 ],
 "metadata": {
  "kernelspec": {
   "display_name": "Python 3 (ipykernel)",
   "language": "python",
   "name": "python3"
  },
  "language_info": {
   "codemirror_mode": {
    "name": "ipython",
    "version": 3
   },
   "file_extension": ".py",
   "mimetype": "text/x-python",
   "name": "python",
   "nbconvert_exporter": "python",
   "pygments_lexer": "ipython3",
   "version": "3.12.4"
  }
 },
 "nbformat": 4,
 "nbformat_minor": 5
}
