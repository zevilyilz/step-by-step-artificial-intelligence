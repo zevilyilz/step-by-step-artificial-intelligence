{
 "cells": [
  {
   "cell_type": "code",
   "execution_count": 37,
   "id": "7210f39e-ddb4-4c55-8578-bcb72ac54952",
   "metadata": {},
   "outputs": [],
   "source": [
    "import pandas as pd\n",
    "import matplotlib.pyplot as plt\n",
    "\n",
    "from sklearn import datasets\n",
    "from sklearn.cluster import KMeans\n",
    "from sklearn.metrics import silhouette_score\n",
    "from yellowbrick.cluster import KElbowVisualizer\n",
    "\n",
    "from sklearn.preprocessing import LabelEncoder\n",
    "\n",
    "import warnings\n",
    "warnings.filterwarnings(\"ignore\")"
   ]
  },
  {
   "cell_type": "code",
   "execution_count": 3,
   "id": "a62c3ed0-df8d-4ad3-a124-e4aa8e28f3d9",
   "metadata": {},
   "outputs": [],
   "source": [
    "df= pd.read_csv(\"air-traffic-passenger-statistics.csv\")"
   ]
  },
  {
   "cell_type": "code",
   "execution_count": 11,
   "id": "2b619201-1aad-4afe-8040-3beb44fd6610",
   "metadata": {},
   "outputs": [
    {
     "data": {
      "text/html": [
       "<div>\n",
       "<style scoped>\n",
       "    .dataframe tbody tr th:only-of-type {\n",
       "        vertical-align: middle;\n",
       "    }\n",
       "\n",
       "    .dataframe tbody tr th {\n",
       "        vertical-align: top;\n",
       "    }\n",
       "\n",
       "    .dataframe thead th {\n",
       "        text-align: right;\n",
       "    }\n",
       "</style>\n",
       "<table border=\"1\" class=\"dataframe\">\n",
       "  <thead>\n",
       "    <tr style=\"text-align: right;\">\n",
       "      <th></th>\n",
       "      <th>Activity Period</th>\n",
       "      <th>Operating Airline</th>\n",
       "      <th>Operating Airline IATA Code</th>\n",
       "      <th>Published Airline</th>\n",
       "      <th>Published Airline IATA Code</th>\n",
       "      <th>GEO Summary</th>\n",
       "      <th>GEO Region</th>\n",
       "      <th>Activity Type Code</th>\n",
       "      <th>Price Category Code</th>\n",
       "      <th>Terminal</th>\n",
       "      <th>Boarding Area</th>\n",
       "      <th>Passenger Count</th>\n",
       "    </tr>\n",
       "  </thead>\n",
       "  <tbody>\n",
       "    <tr>\n",
       "      <th>0</th>\n",
       "      <td>200507</td>\n",
       "      <td>ATA Airlines</td>\n",
       "      <td>TZ</td>\n",
       "      <td>ATA Airlines</td>\n",
       "      <td>TZ</td>\n",
       "      <td>Domestic</td>\n",
       "      <td>US</td>\n",
       "      <td>Deplaned</td>\n",
       "      <td>Low Fare</td>\n",
       "      <td>Terminal 1</td>\n",
       "      <td>B</td>\n",
       "      <td>27271</td>\n",
       "    </tr>\n",
       "    <tr>\n",
       "      <th>1</th>\n",
       "      <td>200507</td>\n",
       "      <td>ATA Airlines</td>\n",
       "      <td>TZ</td>\n",
       "      <td>ATA Airlines</td>\n",
       "      <td>TZ</td>\n",
       "      <td>Domestic</td>\n",
       "      <td>US</td>\n",
       "      <td>Enplaned</td>\n",
       "      <td>Low Fare</td>\n",
       "      <td>Terminal 1</td>\n",
       "      <td>B</td>\n",
       "      <td>29131</td>\n",
       "    </tr>\n",
       "    <tr>\n",
       "      <th>2</th>\n",
       "      <td>200507</td>\n",
       "      <td>ATA Airlines</td>\n",
       "      <td>TZ</td>\n",
       "      <td>ATA Airlines</td>\n",
       "      <td>TZ</td>\n",
       "      <td>Domestic</td>\n",
       "      <td>US</td>\n",
       "      <td>Thru / Transit</td>\n",
       "      <td>Low Fare</td>\n",
       "      <td>Terminal 1</td>\n",
       "      <td>B</td>\n",
       "      <td>5415</td>\n",
       "    </tr>\n",
       "    <tr>\n",
       "      <th>3</th>\n",
       "      <td>200507</td>\n",
       "      <td>Air Canada</td>\n",
       "      <td>AC</td>\n",
       "      <td>Air Canada</td>\n",
       "      <td>AC</td>\n",
       "      <td>International</td>\n",
       "      <td>Canada</td>\n",
       "      <td>Deplaned</td>\n",
       "      <td>Other</td>\n",
       "      <td>Terminal 1</td>\n",
       "      <td>B</td>\n",
       "      <td>35156</td>\n",
       "    </tr>\n",
       "    <tr>\n",
       "      <th>4</th>\n",
       "      <td>200507</td>\n",
       "      <td>Air Canada</td>\n",
       "      <td>AC</td>\n",
       "      <td>Air Canada</td>\n",
       "      <td>AC</td>\n",
       "      <td>International</td>\n",
       "      <td>Canada</td>\n",
       "      <td>Enplaned</td>\n",
       "      <td>Other</td>\n",
       "      <td>Terminal 1</td>\n",
       "      <td>B</td>\n",
       "      <td>34090</td>\n",
       "    </tr>\n",
       "  </tbody>\n",
       "</table>\n",
       "</div>"
      ],
      "text/plain": [
       "   Activity Period Operating Airline Operating Airline IATA Code  \\\n",
       "0           200507      ATA Airlines                          TZ   \n",
       "1           200507      ATA Airlines                          TZ   \n",
       "2           200507      ATA Airlines                          TZ   \n",
       "3           200507        Air Canada                          AC   \n",
       "4           200507        Air Canada                          AC   \n",
       "\n",
       "  Published Airline Published Airline IATA Code    GEO Summary GEO Region  \\\n",
       "0      ATA Airlines                          TZ       Domestic         US   \n",
       "1      ATA Airlines                          TZ       Domestic         US   \n",
       "2      ATA Airlines                          TZ       Domestic         US   \n",
       "3        Air Canada                          AC  International     Canada   \n",
       "4        Air Canada                          AC  International     Canada   \n",
       "\n",
       "  Activity Type Code Price Category Code    Terminal Boarding Area  \\\n",
       "0           Deplaned            Low Fare  Terminal 1             B   \n",
       "1           Enplaned            Low Fare  Terminal 1             B   \n",
       "2     Thru / Transit            Low Fare  Terminal 1             B   \n",
       "3           Deplaned               Other  Terminal 1             B   \n",
       "4           Enplaned               Other  Terminal 1             B   \n",
       "\n",
       "   Passenger Count  \n",
       "0            27271  \n",
       "1            29131  \n",
       "2             5415  \n",
       "3            35156  \n",
       "4            34090  "
      ]
     },
     "execution_count": 11,
     "metadata": {},
     "output_type": "execute_result"
    }
   ],
   "source": [
    "df.head()"
   ]
  },
  {
   "cell_type": "code",
   "execution_count": 17,
   "id": "07db221a-11a8-44ea-bf9b-10f1ce44a6a8",
   "metadata": {},
   "outputs": [],
   "source": [
    "# Kategorik sütunları bulma (örneğin, object türündeki sütunlar)\n",
    "categorical_columns = df.select_dtypes(include=['object']).columns\n",
    "\n",
    "# Her bir kategorik sütunu LabelEncoder ile sayısal değerlere çevirme\n",
    "label_encoder = LabelEncoder()\n",
    "\n",
    "for column in categorical_columns:\n",
    "    df[column] = label_encoder.fit_transform(df[column])"
   ]
  },
  {
   "cell_type": "code",
   "execution_count": 19,
   "id": "348a0cf8-fe3a-4d86-9c3c-429aa9943df6",
   "metadata": {},
   "outputs": [
    {
     "name": "stdout",
     "output_type": "stream",
     "text": [
      "<class 'pandas.core.frame.DataFrame'>\n",
      "RangeIndex: 18885 entries, 0 to 18884\n",
      "Data columns (total 12 columns):\n",
      " #   Column                       Non-Null Count  Dtype\n",
      "---  ------                       --------------  -----\n",
      " 0   Activity Period              18885 non-null  int64\n",
      " 1   Operating Airline            18885 non-null  int32\n",
      " 2   Operating Airline IATA Code  18885 non-null  int32\n",
      " 3   Published Airline            18885 non-null  int32\n",
      " 4   Published Airline IATA Code  18885 non-null  int32\n",
      " 5   GEO Summary                  18885 non-null  int32\n",
      " 6   GEO Region                   18885 non-null  int32\n",
      " 7   Activity Type Code           18885 non-null  int32\n",
      " 8   Price Category Code          18885 non-null  int32\n",
      " 9   Terminal                     18885 non-null  int32\n",
      " 10  Boarding Area                18885 non-null  int32\n",
      " 11  Passenger Count              18885 non-null  int64\n",
      "dtypes: int32(10), int64(2)\n",
      "memory usage: 1.0 MB\n"
     ]
    }
   ],
   "source": [
    "df.info()"
   ]
  },
  {
   "cell_type": "code",
   "execution_count": 21,
   "id": "76e3e678-e14a-4388-afe4-1b6aacb5e014",
   "metadata": {},
   "outputs": [
    {
     "name": "stdout",
     "output_type": "stream",
     "text": [
      "Index(['Activity Period', 'Operating Airline', 'Operating Airline IATA Code',\n",
      "       'Published Airline', 'Published Airline IATA Code', 'GEO Summary',\n",
      "       'GEO Region', 'Activity Type Code', 'Price Category Code', 'Terminal',\n",
      "       'Boarding Area', 'Passenger Count'],\n",
      "      dtype='object')\n"
     ]
    }
   ],
   "source": [
    "print(df.columns)"
   ]
  },
  {
   "cell_type": "code",
   "execution_count": 23,
   "id": "e0960511-5f9a-40f6-9aff-c67ec70a4a66",
   "metadata": {},
   "outputs": [],
   "source": [
    "x= df[['Activity Period', 'Operating Airline', 'Operating Airline IATA Code',\n",
    "       'Published Airline', 'Published Airline IATA Code', 'GEO Summary',\n",
    "       'GEO Region', 'Activity Type Code', 'Price Category Code', 'Terminal',\n",
    "       'Boarding Area']]\n",
    "y= df[['Passenger Count']]"
   ]
  },
  {
   "cell_type": "code",
   "execution_count": 25,
   "id": "f06fb082-5719-4679-b055-22b3f6762115",
   "metadata": {},
   "outputs": [
    {
     "data": {
      "image/png": "[encoded data removed]",
      "text/plain": [
       "<Figure size 800x550 with 2 Axes>"
      ]
     },
     "metadata": {},
     "output_type": "display_data"
    },
    {
     "data": {
      "text/plain": [
       "<Axes: title={'center': 'Distortion Score Elbow for KMeans Clustering'}, xlabel='k', ylabel='distortion score'>"
      ]
     },
     "execution_count": 25,
     "metadata": {},
     "output_type": "execute_result"
    }
   ],
   "source": [
    "# en optimum nokta için\n",
    "km= KMeans()\n",
    "vis =KElbowVisualizer(km,k=(2,10))\n",
    "vis.fit(x)\n",
    "vis.show()"
   ]
  },
  {
   "cell_type": "code",
   "execution_count": 27,
   "id": "81eb829b-4723-44e5-a334-3c3be4166818",
   "metadata": {},
   "outputs": [],
   "source": [
    "model =KMeans(4)"
   ]
  },
  {
   "cell_type": "code",
   "execution_count": 29,
   "id": "61dba748-12e6-446e-bdae-525893b55c87",
   "metadata": {},
   "outputs": [],
   "source": [
    "model = model.fit(x)"
   ]
  },
  {
   "cell_type": "code",
   "execution_count": 31,
   "id": "f8175fff-1802-4f8f-ad22-9062ee41be76",
   "metadata": {},
   "outputs": [],
   "source": [
    "pred = model.predict(x)"
   ]
  },
  {
   "cell_type": "code",
   "execution_count": 33,
   "id": "c5c2e859-0fde-494e-b457-8264b2fec066",
   "metadata": {},
   "outputs": [],
   "source": [
    "x[\"passeng\"]= pred"
   ]
  },
  {
   "cell_type": "code",
   "execution_count": 39,
   "id": "0328be97-d255-44f6-91f6-74df9876a37c",
   "metadata": {},
   "outputs": [
    {
     "data": {
      "text/plain": [
       "0.5160563660501487"
      ]
     },
     "execution_count": 39,
     "metadata": {},
     "output_type": "execute_result"
    }
   ],
   "source": [
    "silhouette_score(x,pred)"
   ]
  },
  {
   "cell_type": "code",
   "execution_count": 45,
   "id": "432fec10-6df8-43ac-9942-f0b6769075c0",
   "metadata": {},
   "outputs": [
    {
     "data": {
      "text/plain": [
       "passeng\n",
       "3    5564\n",
       "2    4906\n",
       "0    4249\n",
       "1    4166\n",
       "Name: count, dtype: int64"
      ]
     },
     "execution_count": 45,
     "metadata": {},
     "output_type": "execute_result"
    }
   ],
   "source": [
    "x[\"passeng\"].value_counts()"
   ]
  },
  {
   "cell_type": "code",
   "execution_count": 47,
   "id": "b636617d-c4d0-493e-8430-c8e2ee7cb8d4",
   "metadata": {},
   "outputs": [
    {
     "name": "stdout",
     "output_type": "stream",
     "text": [
      "0.6076255196347298\n",
      "0.5594571996893614\n",
      "0.5285017394934982\n",
      "0.5021200429222598\n",
      "0.4726827910936044\n",
      "0.4541698616201327\n",
      "0.44354860304369914\n",
      "0.42772660460340733\n"
     ]
    }
   ],
   "source": [
    "# gruplarından merkezinden olan uzaklıkları kullanmak için wcss\n",
    "wcss=[]\n",
    "ss =[]\n",
    "for i in range(2,10):\n",
    "    model=KMeans(i)\n",
    "    model = model.fit(x)\n",
    "    pred = model.predict(x)\n",
    "    ss1 = silhouette_score(x,pred)\n",
    "    ss.append(ss1)\n",
    "    print(ss1)\n",
    "    wcss.append(model.inertia_)"
   ]
  },
  {
   "cell_type": "code",
   "execution_count": null,
   "id": "55389e62-6239-4040-ad01-afb53ace5794",
   "metadata": {},
   "outputs": [],
   "source": []
  }
 ],
 "metadata": {
  "kernelspec": {
   "display_name": "Python 3 (ipykernel)",
   "language": "python",
   "name": "python3"
  },
  "language_info": {
   "codemirror_mode": {
    "name": "ipython",
    "version": 3
   },
   "file_extension": ".py",
   "mimetype": "text/x-python",
   "name": "python",
   "nbconvert_exporter": "python",
   "pygments_lexer": "ipython3",
   "version": "3.12.4"
  }
 },
 "nbformat": 4,
 "nbformat_minor": 5
}
